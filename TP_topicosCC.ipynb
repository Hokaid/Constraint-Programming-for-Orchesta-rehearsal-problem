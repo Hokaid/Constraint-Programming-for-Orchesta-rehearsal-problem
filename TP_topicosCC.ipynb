{
  "nbformat": 4,
  "nbformat_minor": 0,
  "metadata": {
    "colab": {
      "name": "TP_topicosCC.ipynb",
      "provenance": [],
      "collapsed_sections": []
    },
    "kernelspec": {
      "name": "python3",
      "display_name": "Python 3"
    }
  },
  "cells": [
    {
      "cell_type": "code",
      "metadata": {
        "id": "SVt7hOzgPzgz",
        "colab_type": "code",
        "outputId": "6aa4196e-c528-4bde-d440-fe7025834fd1",
        "colab": {
          "base_uri": "https://localhost:8080/",
          "height": 85
        }
      },
      "source": [
        "!pip install ortools"
      ],
      "execution_count": 46,
      "outputs": [
        {
          "output_type": "stream",
          "text": [
            "Requirement already satisfied: ortools in /usr/local/lib/python3.6/dist-packages (7.6.7691)\n",
            "Requirement already satisfied: six>=1.10 in /usr/local/lib/python3.6/dist-packages (from ortools) (1.12.0)\n",
            "Requirement already satisfied: protobuf>=3.11.2 in /usr/local/lib/python3.6/dist-packages (from ortools) (3.11.3)\n",
            "Requirement already satisfied: setuptools in /usr/local/lib/python3.6/dist-packages (from protobuf>=3.11.2->ortools) (46.1.3)\n"
          ],
          "name": "stdout"
        }
      ]
    },
    {
      "cell_type": "markdown",
      "metadata": {
        "id": "O0aiRRutQUIQ",
        "colab_type": "text"
      },
      "source": [
        "#**Modelo de CP para Orchestra rehearsal**"
      ]
    },
    {
      "cell_type": "code",
      "metadata": {
        "id": "WPZ8VVbyP_2P",
        "colab_type": "code",
        "colab": {}
      },
      "source": [
        "from ortools.sat.python import cp_model\n",
        "import time\n",
        "\n",
        "def OrehearsalSolver(tabpxc, arrcxd, heuvar, heuval):\n",
        "  model = cp_model.CpModel()\n",
        "\n",
        "  #**Variables y dominios**\n",
        "\n",
        "  tabcxo = [] #Tabla Numero de composicion x Orden de composición (1 si la composicion se da en ese orden y 0 si no)\n",
        "  for i in range(len(tabpxc[0])): \n",
        "    fila = [] \n",
        "    for j in range(len(tabpxc[0])):\n",
        "      fila += [model.NewBoolVar('x'+str(i)+str(j))]\n",
        "    tabcxo += [fila]\n",
        "\n",
        "  waiti = model.NewIntVar(0, sum(arrcxd)*5, 'z') #Tiempo total de espera\n",
        "\n",
        "  arrcxo = [] #Arreglo donde los indices son el Numero de la composición y el valor es el orden \n",
        "  for i in range(len(tabcxo)):\n",
        "    arrcxo += [model.NewIntVar(1, 9, 'x'+str(i))]\n",
        "    for j in range(len(tabcxo)):\n",
        "      model.Add(arrcxo[i] == j + 1).OnlyEnforceIf(tabcxo[i][j])\n",
        "      model.Add(arrcxo[i] != j + 1).OnlyEnforceIf(tabcxo[i][j].Not())\n",
        "\n",
        "  tabpro = [] #Tabla Musico x orden de Composición (Tabla de programación del concierto) es 1 si el musico participa de la composicion y 0 si no\n",
        "  for i in range(len(tabpxc)): \n",
        "    fila = []\n",
        "    for j in range(len(tabpxc[0])):\n",
        "      fila += [model.NewBoolVar('pro'+str(i)+str(j))]\n",
        "    tabpro += [fila]\n",
        "\n",
        "  tabprowait = [] #Tabla Musico x Composición de espera (indica el tiempo que debe esperar el musico en una composición si no participa en ella)\n",
        "  for i in range(len(tabpxc)): \n",
        "    fila = []\n",
        "    for j in range(len(tabpxc[0])):\n",
        "      fila += [model.NewIntVar(0, 10, 'prowait'+str(i)+str(j))]\n",
        "    tabprowait += [fila]\n",
        "\n",
        "  tabwait = [] #Tabla Musico x Composicion de espera considerando tiempo de llegada y salida\n",
        "  #indica el tiempo que debe esperar el musico en una composición si no participa en ella considerando tiempo de llegada y salida\n",
        "  for i in range(len(tabpxc)): \n",
        "    fila = []\n",
        "    for j in range(len(tabpxc[0])):\n",
        "      fila += [model.NewIntVar(0, 10, 'wait'+str(i)+str(j))]\n",
        "    tabwait += [fila]\n",
        "\n",
        "  tabproalt1 = [] #Tabla de programación alternativa 1 (0 si el musico todavia no llega cuando se conduce cierta composicion y 1 si ya habia llegado)\n",
        "  for i in range(len(tabpxc)): \n",
        "    fila = []\n",
        "    for j in range(len(tabpxc[0])):\n",
        "      fila += [model.NewBoolVar('proalt1'+str(i)+str(j))]\n",
        "    tabproalt1 += [fila]\n",
        "\n",
        "  tabproalt2 = [] #Tabla de programación alternativa 2 (0 si el musico ya se fue cuando se conduce cierta composicion y 1 si todavia no se va o no llega)\n",
        "  for i in range(len(tabpxc)): \n",
        "    fila = []\n",
        "    for j in range(len(tabpxc[0])):\n",
        "      fila += [model.NewBoolVar('proalt2'+str(i)+str(j))]\n",
        "    tabproalt2 += [fila]\n",
        "\n",
        "  tabproalt3 = [] #Tabla de programación alternativa 3 (0 si el musico no esta cuando se conduce cierta composicion y 1 si sí esta dicho musico)\n",
        "  for i in range(len(tabpxc)): \n",
        "    fila = []\n",
        "    for j in range(len(tabpxc[0])):\n",
        "      fila += [model.NewBoolVar('proalt3'+str(i)+str(j))]\n",
        "    tabproalt3 += [fila]\n",
        "\n",
        "  abools = [] #Variables booleanas de restricción para relacionar Tabla de programación con Tabla alternativa 1\n",
        "  for i in range(len(tabpxc)):\n",
        "    fila = []\n",
        "    for j in range(len(tabpxc[0])):\n",
        "      fila += [model.NewBoolVar('a'+str(i)+str(j))]\n",
        "    abools += [fila]\n",
        "  bbools = [] #Variables booleanas de restricción para relacionar Tabla de programación con Tabla alternativa 2\n",
        "  for i in range(len(tabpxc)):\n",
        "    fila = []\n",
        "    for j in range(len(tabpxc[0])):\n",
        "      fila += [model.NewBoolVar('b'+str(i)+str(j))]\n",
        "    bbools += [fila]\n",
        "    \n",
        "  #**Restricciones**\n",
        "\n",
        "  model.AddAllDifferent(arrcxo) #El orden de cada composición debe ser distinto\n",
        "  model.Add(arrcxo[1] < arrcxo[7]) #La composición 2 debe estar antes que la composición 8\n",
        "  model.Add(arrcxo[4]+1 == arrcxo[5]) #La composición 6 debe darse justo despues de la 5\n",
        "  \n",
        "  wait = []\n",
        "  for i in range(len(tabpxc)):\n",
        "    for j in range(len(tabpxc[0])):\n",
        "      orde = []\n",
        "      iord = []\n",
        "      for k in range(len(tabcxo)):\n",
        "        invv = (tabpxc[i][k] - 1)*-1\n",
        "        orde += [invv*tabcxo[k][j]*arrcxd[k]] #Filtrando para obtener los tiempos de espera de las composiciones en la que un musico no participara\n",
        "        iord += [tabpxc[i][k]*tabcxo[k][j]] #Filtrando para saber en que composiciones participara cada musico\n",
        "      model.Add(tabprowait[i][j] == sum(orde)) #Llenando tabla musico x composición de Espera\n",
        "      model.Add(tabpro[i][j] == sum(iord)) #Llenando tabla de programación\n",
        "    for j in range(len(tabpro[i])):\n",
        "      model.Add(tabpro[i][j] + sum(tabpro[i][0:j]) > 0).OnlyEnforceIf(abools[i][j])\n",
        "      model.Add(tabpro[i][j] + sum(tabpro[i][0:j]) <= 0).OnlyEnforceIf(abools[i][j].Not())\n",
        "      model.Add(tabproalt1[i][j] == 1).OnlyEnforceIf(abools[i][j]) #Llenando Tabla alternantiva 1\n",
        "      model.Add(tabproalt1[i][j] != 1).OnlyEnforceIf(abools[i][j].Not())\n",
        "      model.Add(tabpro[i][len(tabpro[i])-1-j] + sum(tabpro[i][len(tabpro[i])-j:len(tabpro[i])]) > 0).OnlyEnforceIf(bbools[i][j])\n",
        "      model.Add(tabpro[i][len(tabpro[i])-1-j] + sum(tabpro[i][len(tabpro[i])-j:len(tabpro[i])]) <= 0).OnlyEnforceIf(bbools[i][j].Not())\n",
        "      model.Add(tabproalt2[i][len(tabpro[i])-1-j] == 1).OnlyEnforceIf(bbools[i][j]) #Llenando Tabla alternativa 2\n",
        "      model.Add(tabproalt2[i][len(tabpro[i])-1-j] != 1).OnlyEnforceIf(bbools[i][j].Not())\n",
        "      model.AddMultiplicationEquality(tabproalt3[i][j],[tabproalt1[i][j],tabproalt2[i][j]]) #Llenando tabla de programación alternativa 3\n",
        "      model.AddMultiplicationEquality(tabwait[i][j],[tabproalt3[i][j],tabprowait[i][j]]) #Llenando Tabla de Espera considerando tiempo de llegada y salida\n",
        "    wait += [sum(tabwait[i])]\n",
        "  model.Add(sum(wait) == waiti) #Determinando tiempo total de espera\n",
        "  \n",
        "  #Eliminando Simetria\n",
        "  model.Add(arrcxo[0] <= len(tabpro[0])//2)\n",
        "  \n",
        "  #**Optimizador**\n",
        "  model.Minimize(waiti) #Minimizando tiempo total de espera\n",
        "  \n",
        "  #**Heuristicas**  \n",
        "  model.AddDecisionStrategy(arrcxo, heuvar, heuval) \n",
        "  for i in range(len(tabcxo)): model.AddDecisionStrategy(tabcxo[i], heuvar, heuval) \n",
        "  for i in range(len(tabpro)): model.AddDecisionStrategy(tabpro[i], heuvar, heuval) \n",
        "  for i in range(len(tabprowait)): model.AddDecisionStrategy(tabprowait[i], heuvar, heuval) \n",
        "  for i in range(len(tabproalt1)): model.AddDecisionStrategy(tabproalt1[i], heuvar, heuval) \n",
        "  for i in range(len(tabproalt2)): model.AddDecisionStrategy(tabproalt2[i], heuvar, heuval)\n",
        "  for i in range(len(tabproalt3)): model.AddDecisionStrategy(tabproalt3[i], heuvar, heuval)  \n",
        "  for i in range(len(tabwait)): model.AddDecisionStrategy(tabwait[i], heuvar, heuval) \n",
        "  for i in range(len(abools)): model.AddDecisionStrategy(abools[i], heuvar, heuval) \n",
        "  for i in range(len(bbools)): model.AddDecisionStrategy(bbools[i], heuvar, heuval) \n",
        " \n",
        "  #**Solucionador**\n",
        "  solver = cp_model.CpSolver()\n",
        "  status = solver.Solve(model)\n",
        "  print(solver.StatusName(status))\n",
        "  print(solver.ObjectiveValue())\n",
        "  if status == cp_model.OPTIMAL:\n",
        "    #Pintanto tabla de Numero de composicion x Orden de composición\n",
        "    print(\"**Tabla Numero de composicion x Orden de composición**\")\n",
        "    print(\" \", end=\" \")\n",
        "    for i in range(len(tabcxo)):\n",
        "      print(i+1, end=\" \")\n",
        "    print()\n",
        "    for i in range(len(tabcxo)):\n",
        "      print(i+1, end=\" \")\n",
        "      for j in range(len(tabcxo)):\n",
        "        print(solver.Value(tabcxo[i][j]),end=\" \")\n",
        "      print()\n",
        "    print()\n",
        "    #Pintando tabla de programación\n",
        "    print(\"**Tabla de Programación (Musico x Composición)**\")\n",
        "    print(\" \", end=\" \")\n",
        "    for i in range(len(tabcxo)):\n",
        "      for j in range(len(tabcxo)):\n",
        "        if (solver.Value(tabcxo[j][i]) == 1):\n",
        "          print(j+1, end=\" \")\n",
        "    print()\n",
        "    for i in range(5):\n",
        "      print(i+1, end=\" \")\n",
        "      for j in range(9):\n",
        "        print(solver.Value(tabpro[i][j]),end=\" \")\n",
        "      print()\n",
        "    print()\n",
        "    #Pintando tabla de Espera considerando tiempo de llegada y salida\n",
        "    print(\"**Tabla Musico x Composicion de espera considerando tiempo de llegada y salida**\")\n",
        "    print(\"Indica lo que esperara cada musico por composición:\")\n",
        "    print(\" \", end=\" \")\n",
        "    for i in range(len(tabcxo)):\n",
        "      for j in range(len(tabcxo)):\n",
        "        if (solver.Value(tabcxo[j][i]) == 1):\n",
        "          print(j+1, end=\" \")\n",
        "    print()\n",
        "    for i in range(5):\n",
        "      print(i+1, end=\" \")\n",
        "      for j in range(9):\n",
        "        print(solver.Value(tabwait[i][j]),end=\" \")\n",
        "      print()\n",
        "    print()\n",
        "    #Pintando tiempo total de espera de todos los musicos\n",
        "    print(\"Tiempo total de espera de todos los musicos (Minimizado):\")\n",
        "    print(solver.Value(waiti))\n",
        "  \n",
        "\n",
        "tabpxc = [[1, 0, 1, 1, 0, 1, 1, 0, 1], #Tabla del problema Musico x Numero de composicion\n",
        "          [1, 0, 1, 1, 1, 1, 0, 1, 0],\n",
        "          [1, 1, 0, 0, 1, 0, 0, 1, 0],\n",
        "          [1, 0, 0, 0, 1, 0, 1, 0, 1], \n",
        "          [0, 1, 0, 1, 1, 1, 1, 0, 0]]\n",
        "arrcxd = [2, 4, 1, 3, 3, 2, 5, 7, 6] #Duración de composiciones"
      ],
      "execution_count": 0,
      "outputs": []
    },
    {
      "cell_type": "markdown",
      "metadata": {
        "id": "wk9sbN8vWpN1",
        "colab_type": "text"
      },
      "source": [
        "##**Aplicando el modelo con ->**\n",
        "##**Heuristica de valor: menor valor**\n",
        "##**Heuristica de variable: primera variable**"
      ]
    },
    {
      "cell_type": "code",
      "metadata": {
        "id": "ZO1CLXHOAZXW",
        "colab_type": "code",
        "outputId": "4baba63d-3b62-4929-ae4d-7022c9c57a76",
        "colab": {
          "base_uri": "https://localhost:8080/",
          "height": 612
        }
      },
      "source": [
        "inicio = time.clock()\n",
        "OrehearsalSolver(tabpxc, arrcxd, 0, 0)\n",
        "delta_clock = time.clock() - inicio\n",
        "print()\n",
        "print(\"Tiempo de ejecución (segundos): \",delta_clock)"
      ],
      "execution_count": 48,
      "outputs": [
        {
          "output_type": "stream",
          "text": [
            "OPTIMAL\n",
            "16.0\n",
            "**Tabla Numero de composicion x Orden de composición**\n",
            "  1 2 3 4 5 6 7 8 9 \n",
            "1 0 0 1 0 0 0 0 0 0 \n",
            "2 0 0 0 0 0 0 0 1 0 \n",
            "3 0 0 0 0 0 0 1 0 0 \n",
            "4 0 0 0 0 0 1 0 0 0 \n",
            "5 0 0 0 1 0 0 0 0 0 \n",
            "6 0 0 0 0 1 0 0 0 0 \n",
            "7 0 1 0 0 0 0 0 0 0 \n",
            "8 0 0 0 0 0 0 0 0 1 \n",
            "9 1 0 0 0 0 0 0 0 0 \n",
            "\n",
            "**Tabla de Programación (Musico x Composición)**\n",
            "  9 7 1 5 6 4 3 2 8 \n",
            "1 1 1 1 0 1 1 1 0 0 \n",
            "2 0 0 1 1 1 1 1 0 1 \n",
            "3 0 0 1 1 0 0 0 1 1 \n",
            "4 1 1 1 1 0 0 0 0 0 \n",
            "5 0 1 0 1 1 1 0 1 0 \n",
            "\n",
            "**Tabla Musico x Composicion de espera considerando tiempo de llegada y salida**\n",
            "Indica lo que esperara cada musico por composición:\n",
            "  9 7 1 5 6 4 3 2 8 \n",
            "1 0 0 0 3 0 0 0 0 0 \n",
            "2 0 0 0 0 0 0 0 4 0 \n",
            "3 0 0 0 0 2 3 1 0 0 \n",
            "4 0 0 0 0 0 0 0 0 0 \n",
            "5 0 0 2 0 0 0 1 0 0 \n",
            "\n",
            "Tiempo total de espera de todos los musicos (Minimizado):\n",
            "16\n",
            "\n",
            "Tiempo de ejecución (segundos):  0.3139459999999996\n"
          ],
          "name": "stdout"
        }
      ]
    },
    {
      "cell_type": "markdown",
      "metadata": {
        "id": "yLthE3iTXdC7",
        "colab_type": "text"
      },
      "source": [
        "##**Aplicando el modelo con ->**\n",
        "##**Heuristica de valor: menor valor**\n",
        "##**Heuristica de variable: variable con el valor mínimo más pequeño**"
      ]
    },
    {
      "cell_type": "code",
      "metadata": {
        "id": "RzyfCiKxAbjA",
        "colab_type": "code",
        "outputId": "36805735-849f-4683-86b9-e4505d9ca146",
        "colab": {
          "base_uri": "https://localhost:8080/",
          "height": 612
        }
      },
      "source": [
        "inicio = time.clock()\n",
        "OrehearsalSolver(tabpxc, arrcxd, 1, 0)\n",
        "delta_clock = time.clock() - inicio\n",
        "print()\n",
        "print(\"Tiempo de ejecución (segundos): \",delta_clock)"
      ],
      "execution_count": 49,
      "outputs": [
        {
          "output_type": "stream",
          "text": [
            "OPTIMAL\n",
            "16.0\n",
            "**Tabla Numero de composicion x Orden de composición**\n",
            "  1 2 3 4 5 6 7 8 9 \n",
            "1 0 0 1 0 0 0 0 0 0 \n",
            "2 0 0 0 0 0 0 0 1 0 \n",
            "3 0 0 0 0 0 0 1 0 0 \n",
            "4 0 0 0 0 0 1 0 0 0 \n",
            "5 0 0 0 1 0 0 0 0 0 \n",
            "6 0 0 0 0 1 0 0 0 0 \n",
            "7 0 1 0 0 0 0 0 0 0 \n",
            "8 0 0 0 0 0 0 0 0 1 \n",
            "9 1 0 0 0 0 0 0 0 0 \n",
            "\n",
            "**Tabla de Programación (Musico x Composición)**\n",
            "  9 7 1 5 6 4 3 2 8 \n",
            "1 1 1 1 0 1 1 1 0 0 \n",
            "2 0 0 1 1 1 1 1 0 1 \n",
            "3 0 0 1 1 0 0 0 1 1 \n",
            "4 1 1 1 1 0 0 0 0 0 \n",
            "5 0 1 0 1 1 1 0 1 0 \n",
            "\n",
            "**Tabla Musico x Composicion de espera considerando tiempo de llegada y salida**\n",
            "Indica lo que esperara cada musico por composición:\n",
            "  9 7 1 5 6 4 3 2 8 \n",
            "1 0 0 0 3 0 0 0 0 0 \n",
            "2 0 0 0 0 0 0 0 4 0 \n",
            "3 0 0 0 0 2 3 1 0 0 \n",
            "4 0 0 0 0 0 0 0 0 0 \n",
            "5 0 0 2 0 0 0 1 0 0 \n",
            "\n",
            "Tiempo total de espera de todos los musicos (Minimizado):\n",
            "16\n",
            "\n",
            "Tiempo de ejecución (segundos):  0.3039140000000007\n"
          ],
          "name": "stdout"
        }
      ]
    },
    {
      "cell_type": "markdown",
      "metadata": {
        "id": "zlzLG333Xo-s",
        "colab_type": "text"
      },
      "source": [
        "##**Aplicando el modelo con ->**\n",
        "##**Heuristica de valor: menor valor**\n",
        "##**Heuristica de variable: variable con el valor máximo más alto**"
      ]
    },
    {
      "cell_type": "code",
      "metadata": {
        "id": "5BwLKYanAgGQ",
        "colab_type": "code",
        "outputId": "c703d241-71a2-4a57-c4f6-ea144b614b09",
        "colab": {
          "base_uri": "https://localhost:8080/",
          "height": 612
        }
      },
      "source": [
        "inicio = time.clock()\n",
        "OrehearsalSolver(tabpxc, arrcxd, 2, 0)\n",
        "delta_clock = time.clock() - inicio\n",
        "print()\n",
        "print(\"Tiempo de ejecución (segundos): \",delta_clock)"
      ],
      "execution_count": 50,
      "outputs": [
        {
          "output_type": "stream",
          "text": [
            "OPTIMAL\n",
            "16.0\n",
            "**Tabla Numero de composicion x Orden de composición**\n",
            "  1 2 3 4 5 6 7 8 9 \n",
            "1 0 0 1 0 0 0 0 0 0 \n",
            "2 0 0 0 0 0 0 0 1 0 \n",
            "3 0 0 0 0 0 0 1 0 0 \n",
            "4 0 0 0 0 0 1 0 0 0 \n",
            "5 0 0 0 1 0 0 0 0 0 \n",
            "6 0 0 0 0 1 0 0 0 0 \n",
            "7 0 1 0 0 0 0 0 0 0 \n",
            "8 0 0 0 0 0 0 0 0 1 \n",
            "9 1 0 0 0 0 0 0 0 0 \n",
            "\n",
            "**Tabla de Programación (Musico x Composición)**\n",
            "  9 7 1 5 6 4 3 2 8 \n",
            "1 1 1 1 0 1 1 1 0 0 \n",
            "2 0 0 1 1 1 1 1 0 1 \n",
            "3 0 0 1 1 0 0 0 1 1 \n",
            "4 1 1 1 1 0 0 0 0 0 \n",
            "5 0 1 0 1 1 1 0 1 0 \n",
            "\n",
            "**Tabla Musico x Composicion de espera considerando tiempo de llegada y salida**\n",
            "Indica lo que esperara cada musico por composición:\n",
            "  9 7 1 5 6 4 3 2 8 \n",
            "1 0 0 0 3 0 0 0 0 0 \n",
            "2 0 0 0 0 0 0 0 4 0 \n",
            "3 0 0 0 0 2 3 1 0 0 \n",
            "4 0 0 0 0 0 0 0 0 0 \n",
            "5 0 0 2 0 0 0 1 0 0 \n",
            "\n",
            "Tiempo total de espera de todos los musicos (Minimizado):\n",
            "16\n",
            "\n",
            "Tiempo de ejecución (segundos):  0.298648\n"
          ],
          "name": "stdout"
        }
      ]
    },
    {
      "cell_type": "markdown",
      "metadata": {
        "id": "_CJafmPcXtyP",
        "colab_type": "text"
      },
      "source": [
        "##**Aplicando el modelo con ->**\n",
        "##**Heuristica de valor: mayor valor**\n",
        "##**Heuristica de variable: primera variable**"
      ]
    },
    {
      "cell_type": "code",
      "metadata": {
        "id": "ka3pWZdfAg9B",
        "colab_type": "code",
        "outputId": "7f1bb144-2acb-41db-eef2-f18d1fa77379",
        "colab": {
          "base_uri": "https://localhost:8080/",
          "height": 612
        }
      },
      "source": [
        "inicio = time.clock()\n",
        "OrehearsalSolver(tabpxc, arrcxd, 0, 1)\n",
        "delta_clock = time.clock() - inicio\n",
        "print()\n",
        "print(\"Tiempo de ejecución (segundos): \",delta_clock)"
      ],
      "execution_count": 51,
      "outputs": [
        {
          "output_type": "stream",
          "text": [
            "OPTIMAL\n",
            "16.0\n",
            "**Tabla Numero de composicion x Orden de composición**\n",
            "  1 2 3 4 5 6 7 8 9 \n",
            "1 0 0 1 0 0 0 0 0 0 \n",
            "2 0 0 0 0 0 0 0 1 0 \n",
            "3 0 0 0 0 0 0 1 0 0 \n",
            "4 0 0 0 0 0 1 0 0 0 \n",
            "5 0 0 0 1 0 0 0 0 0 \n",
            "6 0 0 0 0 1 0 0 0 0 \n",
            "7 0 1 0 0 0 0 0 0 0 \n",
            "8 0 0 0 0 0 0 0 0 1 \n",
            "9 1 0 0 0 0 0 0 0 0 \n",
            "\n",
            "**Tabla de Programación (Musico x Composición)**\n",
            "  9 7 1 5 6 4 3 2 8 \n",
            "1 1 1 1 0 1 1 1 0 0 \n",
            "2 0 0 1 1 1 1 1 0 1 \n",
            "3 0 0 1 1 0 0 0 1 1 \n",
            "4 1 1 1 1 0 0 0 0 0 \n",
            "5 0 1 0 1 1 1 0 1 0 \n",
            "\n",
            "**Tabla Musico x Composicion de espera considerando tiempo de llegada y salida**\n",
            "Indica lo que esperara cada musico por composición:\n",
            "  9 7 1 5 6 4 3 2 8 \n",
            "1 0 0 0 3 0 0 0 0 0 \n",
            "2 0 0 0 0 0 0 0 4 0 \n",
            "3 0 0 0 0 2 3 1 0 0 \n",
            "4 0 0 0 0 0 0 0 0 0 \n",
            "5 0 0 2 0 0 0 1 0 0 \n",
            "\n",
            "Tiempo total de espera de todos los musicos (Minimizado):\n",
            "16\n",
            "\n",
            "Tiempo de ejecución (segundos):  0.3063830000000003\n"
          ],
          "name": "stdout"
        }
      ]
    },
    {
      "cell_type": "markdown",
      "metadata": {
        "id": "O4NPEiKAXvUh",
        "colab_type": "text"
      },
      "source": [
        "##**Aplicando el modelo con ->**\n",
        "##**Heuristica de valor: mayor valor**\n",
        "##**Heuristica de variable: variable con el valor mínimo más pequeño**"
      ]
    },
    {
      "cell_type": "code",
      "metadata": {
        "id": "znyzi0qxAi4q",
        "colab_type": "code",
        "outputId": "e4b0d0bb-6bdd-4d9d-e8bf-3ff77399da03",
        "colab": {
          "base_uri": "https://localhost:8080/",
          "height": 612
        }
      },
      "source": [
        "inicio = time.clock()\n",
        "OrehearsalSolver(tabpxc, arrcxd, 1, 1)\n",
        "delta_clock = time.clock() - inicio\n",
        "print()\n",
        "print(\"Tiempo de ejecución (segundos): \",delta_clock)"
      ],
      "execution_count": 52,
      "outputs": [
        {
          "output_type": "stream",
          "text": [
            "OPTIMAL\n",
            "16.0\n",
            "**Tabla Numero de composicion x Orden de composición**\n",
            "  1 2 3 4 5 6 7 8 9 \n",
            "1 0 0 1 0 0 0 0 0 0 \n",
            "2 0 0 0 0 0 0 0 1 0 \n",
            "3 0 0 0 0 0 0 1 0 0 \n",
            "4 0 0 0 0 0 1 0 0 0 \n",
            "5 0 0 0 1 0 0 0 0 0 \n",
            "6 0 0 0 0 1 0 0 0 0 \n",
            "7 0 1 0 0 0 0 0 0 0 \n",
            "8 0 0 0 0 0 0 0 0 1 \n",
            "9 1 0 0 0 0 0 0 0 0 \n",
            "\n",
            "**Tabla de Programación (Musico x Composición)**\n",
            "  9 7 1 5 6 4 3 2 8 \n",
            "1 1 1 1 0 1 1 1 0 0 \n",
            "2 0 0 1 1 1 1 1 0 1 \n",
            "3 0 0 1 1 0 0 0 1 1 \n",
            "4 1 1 1 1 0 0 0 0 0 \n",
            "5 0 1 0 1 1 1 0 1 0 \n",
            "\n",
            "**Tabla Musico x Composicion de espera considerando tiempo de llegada y salida**\n",
            "Indica lo que esperara cada musico por composición:\n",
            "  9 7 1 5 6 4 3 2 8 \n",
            "1 0 0 0 3 0 0 0 0 0 \n",
            "2 0 0 0 0 0 0 0 4 0 \n",
            "3 0 0 0 0 2 3 1 0 0 \n",
            "4 0 0 0 0 0 0 0 0 0 \n",
            "5 0 0 2 0 0 0 1 0 0 \n",
            "\n",
            "Tiempo total de espera de todos los musicos (Minimizado):\n",
            "16\n",
            "\n",
            "Tiempo de ejecución (segundos):  0.27939500000000095\n"
          ],
          "name": "stdout"
        }
      ]
    },
    {
      "cell_type": "markdown",
      "metadata": {
        "id": "BpuKSNXVXxGk",
        "colab_type": "text"
      },
      "source": [
        "##**Aplicando el modelo con ->**\n",
        "##**Heuristica de valor: mayor valor**\n",
        "##**Heuristica de variable: variable con el valor máximo más alto**"
      ]
    },
    {
      "cell_type": "code",
      "metadata": {
        "id": "DD74HdBOAvmh",
        "colab_type": "code",
        "outputId": "ae48e280-a00b-4d95-9e52-258f84ac69f5",
        "colab": {
          "base_uri": "https://localhost:8080/",
          "height": 612
        }
      },
      "source": [
        "inicio = time.clock()\n",
        "OrehearsalSolver(tabpxc, arrcxd, 2, 1)\n",
        "delta_clock = time.clock() - inicio\n",
        "print()\n",
        "print(\"Tiempo de ejecución (segundos): \",delta_clock)"
      ],
      "execution_count": 53,
      "outputs": [
        {
          "output_type": "stream",
          "text": [
            "OPTIMAL\n",
            "16.0\n",
            "**Tabla Numero de composicion x Orden de composición**\n",
            "  1 2 3 4 5 6 7 8 9 \n",
            "1 0 0 1 0 0 0 0 0 0 \n",
            "2 0 0 0 0 0 0 0 1 0 \n",
            "3 0 0 0 0 0 0 1 0 0 \n",
            "4 0 0 0 0 0 1 0 0 0 \n",
            "5 0 0 0 1 0 0 0 0 0 \n",
            "6 0 0 0 0 1 0 0 0 0 \n",
            "7 0 1 0 0 0 0 0 0 0 \n",
            "8 0 0 0 0 0 0 0 0 1 \n",
            "9 1 0 0 0 0 0 0 0 0 \n",
            "\n",
            "**Tabla de Programación (Musico x Composición)**\n",
            "  9 7 1 5 6 4 3 2 8 \n",
            "1 1 1 1 0 1 1 1 0 0 \n",
            "2 0 0 1 1 1 1 1 0 1 \n",
            "3 0 0 1 1 0 0 0 1 1 \n",
            "4 1 1 1 1 0 0 0 0 0 \n",
            "5 0 1 0 1 1 1 0 1 0 \n",
            "\n",
            "**Tabla Musico x Composicion de espera considerando tiempo de llegada y salida**\n",
            "Indica lo que esperara cada musico por composición:\n",
            "  9 7 1 5 6 4 3 2 8 \n",
            "1 0 0 0 3 0 0 0 0 0 \n",
            "2 0 0 0 0 0 0 0 4 0 \n",
            "3 0 0 0 0 2 3 1 0 0 \n",
            "4 0 0 0 0 0 0 0 0 0 \n",
            "5 0 0 2 0 0 0 1 0 0 \n",
            "\n",
            "Tiempo total de espera de todos los musicos (Minimizado):\n",
            "16\n",
            "\n",
            "Tiempo de ejecución (segundos):  0.2913180000000004\n"
          ],
          "name": "stdout"
        }
      ]
    },
    {
      "cell_type": "markdown",
      "metadata": {
        "id": "uxeaTsOYXzIf",
        "colab_type": "text"
      },
      "source": [
        "##**Aplicando el modelo con ->**\n",
        "##**Heuristica de valor: Divide el dominio en dos alrededor del centro, y obliga a la variable a tomar el primer valor en la mitad inferior.**\n",
        "##**Heuristica de variable: primera variable**"
      ]
    },
    {
      "cell_type": "code",
      "metadata": {
        "id": "q_2051O8AxlQ",
        "colab_type": "code",
        "outputId": "7f86a6e2-473a-43a2-f6d0-1507b3bc9167",
        "colab": {
          "base_uri": "https://localhost:8080/",
          "height": 612
        }
      },
      "source": [
        "inicio = time.clock()\n",
        "OrehearsalSolver(tabpxc, arrcxd, 0, 2)\n",
        "delta_clock = time.clock() - inicio\n",
        "print()\n",
        "print(\"Tiempo de ejecución (segundos): \",delta_clock)"
      ],
      "execution_count": 54,
      "outputs": [
        {
          "output_type": "stream",
          "text": [
            "OPTIMAL\n",
            "16.0\n",
            "**Tabla Numero de composicion x Orden de composición**\n",
            "  1 2 3 4 5 6 7 8 9 \n",
            "1 0 0 1 0 0 0 0 0 0 \n",
            "2 0 0 0 0 0 0 0 1 0 \n",
            "3 0 0 0 0 0 0 1 0 0 \n",
            "4 0 0 0 0 0 1 0 0 0 \n",
            "5 0 0 0 1 0 0 0 0 0 \n",
            "6 0 0 0 0 1 0 0 0 0 \n",
            "7 0 1 0 0 0 0 0 0 0 \n",
            "8 0 0 0 0 0 0 0 0 1 \n",
            "9 1 0 0 0 0 0 0 0 0 \n",
            "\n",
            "**Tabla de Programación (Musico x Composición)**\n",
            "  9 7 1 5 6 4 3 2 8 \n",
            "1 1 1 1 0 1 1 1 0 0 \n",
            "2 0 0 1 1 1 1 1 0 1 \n",
            "3 0 0 1 1 0 0 0 1 1 \n",
            "4 1 1 1 1 0 0 0 0 0 \n",
            "5 0 1 0 1 1 1 0 1 0 \n",
            "\n",
            "**Tabla Musico x Composicion de espera considerando tiempo de llegada y salida**\n",
            "Indica lo que esperara cada musico por composición:\n",
            "  9 7 1 5 6 4 3 2 8 \n",
            "1 0 0 0 3 0 0 0 0 0 \n",
            "2 0 0 0 0 0 0 0 4 0 \n",
            "3 0 0 0 0 2 3 1 0 0 \n",
            "4 0 0 0 0 0 0 0 0 0 \n",
            "5 0 0 2 0 0 0 1 0 0 \n",
            "\n",
            "Tiempo total de espera de todos los musicos (Minimizado):\n",
            "16\n",
            "\n",
            "Tiempo de ejecución (segundos):  0.30859000000000236\n"
          ],
          "name": "stdout"
        }
      ]
    },
    {
      "cell_type": "markdown",
      "metadata": {
        "id": "5_oUZIXfX2eR",
        "colab_type": "text"
      },
      "source": [
        "##**Aplicando el modelo con ->**\n",
        "##**Heuristica de valor: Divide el dominio en dos alrededor del centro, y obliga a la variable a tomar el primer valor en la mitad inferior.**\n",
        "##**Heuristica de variable: variable con el valor mínimo más pequeño**"
      ]
    },
    {
      "cell_type": "code",
      "metadata": {
        "id": "sQRPUlMtAyMn",
        "colab_type": "code",
        "outputId": "c918fea1-9b3f-493c-930e-7b6732399570",
        "colab": {
          "base_uri": "https://localhost:8080/",
          "height": 612
        }
      },
      "source": [
        "inicio = time.clock()\n",
        "OrehearsalSolver(tabpxc, arrcxd, 1, 2)\n",
        "delta_clock = time.clock() - inicio\n",
        "print()\n",
        "print(\"Tiempo de ejecución (segundos): \",delta_clock)"
      ],
      "execution_count": 55,
      "outputs": [
        {
          "output_type": "stream",
          "text": [
            "OPTIMAL\n",
            "16.0\n",
            "**Tabla Numero de composicion x Orden de composición**\n",
            "  1 2 3 4 5 6 7 8 9 \n",
            "1 0 0 1 0 0 0 0 0 0 \n",
            "2 0 0 0 0 0 0 0 1 0 \n",
            "3 0 0 0 0 0 0 1 0 0 \n",
            "4 0 0 0 0 0 1 0 0 0 \n",
            "5 0 0 0 1 0 0 0 0 0 \n",
            "6 0 0 0 0 1 0 0 0 0 \n",
            "7 0 1 0 0 0 0 0 0 0 \n",
            "8 0 0 0 0 0 0 0 0 1 \n",
            "9 1 0 0 0 0 0 0 0 0 \n",
            "\n",
            "**Tabla de Programación (Musico x Composición)**\n",
            "  9 7 1 5 6 4 3 2 8 \n",
            "1 1 1 1 0 1 1 1 0 0 \n",
            "2 0 0 1 1 1 1 1 0 1 \n",
            "3 0 0 1 1 0 0 0 1 1 \n",
            "4 1 1 1 1 0 0 0 0 0 \n",
            "5 0 1 0 1 1 1 0 1 0 \n",
            "\n",
            "**Tabla Musico x Composicion de espera considerando tiempo de llegada y salida**\n",
            "Indica lo que esperara cada musico por composición:\n",
            "  9 7 1 5 6 4 3 2 8 \n",
            "1 0 0 0 3 0 0 0 0 0 \n",
            "2 0 0 0 0 0 0 0 4 0 \n",
            "3 0 0 0 0 2 3 1 0 0 \n",
            "4 0 0 0 0 0 0 0 0 0 \n",
            "5 0 0 2 0 0 0 1 0 0 \n",
            "\n",
            "Tiempo total de espera de todos los musicos (Minimizado):\n",
            "16\n",
            "\n",
            "Tiempo de ejecución (segundos):  0.3121149999999986\n"
          ],
          "name": "stdout"
        }
      ]
    },
    {
      "cell_type": "markdown",
      "metadata": {
        "id": "qqBudRNQX1UV",
        "colab_type": "text"
      },
      "source": [
        "##**Aplicando el modelo con ->**\n",
        "##**Heuristica de valor: Divide el dominio en dos alrededor del centro, y obliga a la variable a tomar el primer valor en la mitad inferior.**\n",
        "##**Heuristica de variable: variable con el valor máximo más alto**"
      ]
    },
    {
      "cell_type": "code",
      "metadata": {
        "id": "45QivhMyAyxe",
        "colab_type": "code",
        "outputId": "570d6b8a-5fa3-40f6-e020-10e52d8d7c0d",
        "colab": {
          "base_uri": "https://localhost:8080/",
          "height": 612
        }
      },
      "source": [
        "inicio = time.clock()\n",
        "OrehearsalSolver(tabpxc, arrcxd, 2, 2)\n",
        "delta_clock = time.clock() - inicio\n",
        "print()\n",
        "print(\"Tiempo de ejecución (segundos): \",delta_clock)"
      ],
      "execution_count": 56,
      "outputs": [
        {
          "output_type": "stream",
          "text": [
            "OPTIMAL\n",
            "16.0\n",
            "**Tabla Numero de composicion x Orden de composición**\n",
            "  1 2 3 4 5 6 7 8 9 \n",
            "1 0 0 1 0 0 0 0 0 0 \n",
            "2 0 0 0 0 0 0 0 1 0 \n",
            "3 0 0 0 0 0 0 1 0 0 \n",
            "4 0 0 0 0 0 1 0 0 0 \n",
            "5 0 0 0 1 0 0 0 0 0 \n",
            "6 0 0 0 0 1 0 0 0 0 \n",
            "7 0 1 0 0 0 0 0 0 0 \n",
            "8 0 0 0 0 0 0 0 0 1 \n",
            "9 1 0 0 0 0 0 0 0 0 \n",
            "\n",
            "**Tabla de Programación (Musico x Composición)**\n",
            "  9 7 1 5 6 4 3 2 8 \n",
            "1 1 1 1 0 1 1 1 0 0 \n",
            "2 0 0 1 1 1 1 1 0 1 \n",
            "3 0 0 1 1 0 0 0 1 1 \n",
            "4 1 1 1 1 0 0 0 0 0 \n",
            "5 0 1 0 1 1 1 0 1 0 \n",
            "\n",
            "**Tabla Musico x Composicion de espera considerando tiempo de llegada y salida**\n",
            "Indica lo que esperara cada musico por composición:\n",
            "  9 7 1 5 6 4 3 2 8 \n",
            "1 0 0 0 3 0 0 0 0 0 \n",
            "2 0 0 0 0 0 0 0 4 0 \n",
            "3 0 0 0 0 2 3 1 0 0 \n",
            "4 0 0 0 0 0 0 0 0 0 \n",
            "5 0 0 2 0 0 0 1 0 0 \n",
            "\n",
            "Tiempo total de espera de todos los musicos (Minimizado):\n",
            "16\n",
            "\n",
            "Tiempo de ejecución (segundos):  0.30766000000000204\n"
          ],
          "name": "stdout"
        }
      ]
    },
    {
      "cell_type": "markdown",
      "metadata": {
        "id": "NaGJ7BfzX4am",
        "colab_type": "text"
      },
      "source": [
        "##**Aplicando el modelo con ->**\n",
        "##**Heuristica de valor: Divide el dominio en dos alrededor del centro, y obliga a la variable a tomar el primer valor en la mitad superior.**\n",
        "##**Heuristica de variable: primera variable**"
      ]
    },
    {
      "cell_type": "code",
      "metadata": {
        "id": "_zQDiSxeXP2x",
        "colab_type": "code",
        "outputId": "833903fc-2a64-4f88-fcf8-1c5b3be391ba",
        "colab": {
          "base_uri": "https://localhost:8080/",
          "height": 612
        }
      },
      "source": [
        "inicio = time.clock()\n",
        "OrehearsalSolver(tabpxc, arrcxd, 0, 3)\n",
        "delta_clock = time.clock() - inicio\n",
        "print()\n",
        "print(\"Tiempo de ejecución (segundos): \",delta_clock)"
      ],
      "execution_count": 57,
      "outputs": [
        {
          "output_type": "stream",
          "text": [
            "OPTIMAL\n",
            "16.0\n",
            "**Tabla Numero de composicion x Orden de composición**\n",
            "  1 2 3 4 5 6 7 8 9 \n",
            "1 0 0 1 0 0 0 0 0 0 \n",
            "2 0 0 0 0 0 0 0 1 0 \n",
            "3 0 0 0 0 0 0 1 0 0 \n",
            "4 0 0 0 0 0 1 0 0 0 \n",
            "5 0 0 0 1 0 0 0 0 0 \n",
            "6 0 0 0 0 1 0 0 0 0 \n",
            "7 0 1 0 0 0 0 0 0 0 \n",
            "8 0 0 0 0 0 0 0 0 1 \n",
            "9 1 0 0 0 0 0 0 0 0 \n",
            "\n",
            "**Tabla de Programación (Musico x Composición)**\n",
            "  9 7 1 5 6 4 3 2 8 \n",
            "1 1 1 1 0 1 1 1 0 0 \n",
            "2 0 0 1 1 1 1 1 0 1 \n",
            "3 0 0 1 1 0 0 0 1 1 \n",
            "4 1 1 1 1 0 0 0 0 0 \n",
            "5 0 1 0 1 1 1 0 1 0 \n",
            "\n",
            "**Tabla Musico x Composicion de espera considerando tiempo de llegada y salida**\n",
            "Indica lo que esperara cada musico por composición:\n",
            "  9 7 1 5 6 4 3 2 8 \n",
            "1 0 0 0 3 0 0 0 0 0 \n",
            "2 0 0 0 0 0 0 0 4 0 \n",
            "3 0 0 0 0 2 3 1 0 0 \n",
            "4 0 0 0 0 0 0 0 0 0 \n",
            "5 0 0 2 0 0 0 1 0 0 \n",
            "\n",
            "Tiempo total de espera de todos los musicos (Minimizado):\n",
            "16\n",
            "\n",
            "Tiempo de ejecución (segundos):  0.31386499999999984\n"
          ],
          "name": "stdout"
        }
      ]
    },
    {
      "cell_type": "markdown",
      "metadata": {
        "id": "gdiAknWxX68t",
        "colab_type": "text"
      },
      "source": [
        "##**Aplicando el modelo con ->**\n",
        "##**Heuristica de valor: Divide el dominio en dos alrededor del centro, y obliga a la variable a tomar el primer valor en la mitad superior.** \n",
        "##**Heuristica de variable: variable con el valor mínimo más pequeño**"
      ]
    },
    {
      "cell_type": "code",
      "metadata": {
        "id": "tU_fvhhfXSZc",
        "colab_type": "code",
        "outputId": "af6e0837-e9f4-47df-9366-64ae6410bc7e",
        "colab": {
          "base_uri": "https://localhost:8080/",
          "height": 612
        }
      },
      "source": [
        "inicio = time.clock()\n",
        "OrehearsalSolver(tabpxc, arrcxd, 1, 3)\n",
        "delta_clock = time.clock() - inicio\n",
        "print()\n",
        "print(\"Tiempo de ejecución (segundos): \",delta_clock)"
      ],
      "execution_count": 58,
      "outputs": [
        {
          "output_type": "stream",
          "text": [
            "OPTIMAL\n",
            "16.0\n",
            "**Tabla Numero de composicion x Orden de composición**\n",
            "  1 2 3 4 5 6 7 8 9 \n",
            "1 0 0 1 0 0 0 0 0 0 \n",
            "2 0 0 0 0 0 0 0 1 0 \n",
            "3 0 0 0 0 0 0 1 0 0 \n",
            "4 0 0 0 0 0 1 0 0 0 \n",
            "5 0 0 0 1 0 0 0 0 0 \n",
            "6 0 0 0 0 1 0 0 0 0 \n",
            "7 0 1 0 0 0 0 0 0 0 \n",
            "8 0 0 0 0 0 0 0 0 1 \n",
            "9 1 0 0 0 0 0 0 0 0 \n",
            "\n",
            "**Tabla de Programación (Musico x Composición)**\n",
            "  9 7 1 5 6 4 3 2 8 \n",
            "1 1 1 1 0 1 1 1 0 0 \n",
            "2 0 0 1 1 1 1 1 0 1 \n",
            "3 0 0 1 1 0 0 0 1 1 \n",
            "4 1 1 1 1 0 0 0 0 0 \n",
            "5 0 1 0 1 1 1 0 1 0 \n",
            "\n",
            "**Tabla Musico x Composicion de espera considerando tiempo de llegada y salida**\n",
            "Indica lo que esperara cada musico por composición:\n",
            "  9 7 1 5 6 4 3 2 8 \n",
            "1 0 0 0 3 0 0 0 0 0 \n",
            "2 0 0 0 0 0 0 0 4 0 \n",
            "3 0 0 0 0 2 3 1 0 0 \n",
            "4 0 0 0 0 0 0 0 0 0 \n",
            "5 0 0 2 0 0 0 1 0 0 \n",
            "\n",
            "Tiempo total de espera de todos los musicos (Minimizado):\n",
            "16\n",
            "\n",
            "Tiempo de ejecución (segundos):  0.3077229999999993\n"
          ],
          "name": "stdout"
        }
      ]
    },
    {
      "cell_type": "markdown",
      "metadata": {
        "id": "fqaRoTwWX82z",
        "colab_type": "text"
      },
      "source": [
        "##**Aplicando el modelo con ->**\n",
        "##**Heuristica de valor: Divide el dominio en dos alrededor del centro, y obliga a la variable a tomar el primer valor en la mitad superior.**\n",
        "##**Heuristica de variable: variable con el valor máximo más alto**"
      ]
    },
    {
      "cell_type": "code",
      "metadata": {
        "id": "d1onMc7BXUv2",
        "colab_type": "code",
        "outputId": "f93b9cca-b534-4864-bb86-4cf6310cfd80",
        "colab": {
          "base_uri": "https://localhost:8080/",
          "height": 612
        }
      },
      "source": [
        "inicio = time.clock()\n",
        "OrehearsalSolver(tabpxc, arrcxd, 2, 3)\n",
        "delta_clock = time.clock() - inicio\n",
        "print()\n",
        "print(\"Tiempo de ejecución (segundos): \",delta_clock)"
      ],
      "execution_count": 59,
      "outputs": [
        {
          "output_type": "stream",
          "text": [
            "OPTIMAL\n",
            "16.0\n",
            "**Tabla Numero de composicion x Orden de composición**\n",
            "  1 2 3 4 5 6 7 8 9 \n",
            "1 0 0 1 0 0 0 0 0 0 \n",
            "2 0 0 0 0 0 0 0 1 0 \n",
            "3 0 0 0 0 0 0 1 0 0 \n",
            "4 0 0 0 0 0 1 0 0 0 \n",
            "5 0 0 0 1 0 0 0 0 0 \n",
            "6 0 0 0 0 1 0 0 0 0 \n",
            "7 0 1 0 0 0 0 0 0 0 \n",
            "8 0 0 0 0 0 0 0 0 1 \n",
            "9 1 0 0 0 0 0 0 0 0 \n",
            "\n",
            "**Tabla de Programación (Musico x Composición)**\n",
            "  9 7 1 5 6 4 3 2 8 \n",
            "1 1 1 1 0 1 1 1 0 0 \n",
            "2 0 0 1 1 1 1 1 0 1 \n",
            "3 0 0 1 1 0 0 0 1 1 \n",
            "4 1 1 1 1 0 0 0 0 0 \n",
            "5 0 1 0 1 1 1 0 1 0 \n",
            "\n",
            "**Tabla Musico x Composicion de espera considerando tiempo de llegada y salida**\n",
            "Indica lo que esperara cada musico por composición:\n",
            "  9 7 1 5 6 4 3 2 8 \n",
            "1 0 0 0 3 0 0 0 0 0 \n",
            "2 0 0 0 0 0 0 0 4 0 \n",
            "3 0 0 0 0 2 3 1 0 0 \n",
            "4 0 0 0 0 0 0 0 0 0 \n",
            "5 0 0 2 0 0 0 1 0 0 \n",
            "\n",
            "Tiempo total de espera de todos los musicos (Minimizado):\n",
            "16\n",
            "\n",
            "Tiempo de ejecución (segundos):  0.2970480000000002\n"
          ],
          "name": "stdout"
        }
      ]
    }
  ]
}